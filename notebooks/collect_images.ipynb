{
 "cells": [
  {
   "cell_type": "markdown",
   "metadata": {},
   "source": [
    "### Initialize camera and drive images folder"
   ]
  },
  {
   "cell_type": "code",
   "execution_count": null,
   "metadata": {},
   "outputs": [],
   "source": [
    "#camera\n",
    "from jetcam.csi_camera import CSICamera\n",
    "camera = CSICamera(width=224, height=224, capture_fps=15)\n",
    "\n",
    "#folder\n",
    "import os\n",
    "dir = \"data_collected_fps15\"\n",
    "try:\n",
    "    os.makedirs(dir, exist_ok = False)\n",
    "    print(\"Directory '%s' created successfully\" % dir)\n",
    "except OSError as error:\n",
    "    print(\"Directory '%s' already exists\" % dir)"
   ]
  },
  {
   "cell_type": "markdown",
   "metadata": {},
   "source": [
    "### Capture while driving loop"
   ]
  },
  {
   "cell_type": "code",
   "execution_count": null,
   "metadata": {},
   "outputs": [],
   "source": [
    "import os\n",
    "import cv2\n",
    "import time\n",
    "import numpy as np\n",
    "\n",
    "\n",
    "#******************SETTINGS******************\n",
    "delay_start = 20  #seconds before capturing starts\n",
    "freq = 15.0       # 1hz = 1 pic/second, 2hz = 2 pics/second, etc.\n",
    "total_pictures = freq*20*3 # pics/sec * 20 seconds.ave/lap * 3 laps = total pictures\n",
    "#********************************************\n",
    "\n",
    "\n",
    "counter = 0\n",
    "capture_rate = round(1.0/freq, 2) #convert to time domain\n",
    "print(\"Waiting \"+str(delay_start)+\" seconds\") #time needed to setup.\n",
    "time.sleep(delay_start)\n",
    "image = camera.read()\n",
    "try:\n",
    "    print(\"!!!!!START!!!!!\")\n",
    "    while (counter < (total_pictures)):\n",
    "        image = camera.read()\n",
    "        cv2.imwrite('./'+dir+'/' + 'data_point_' + \"{:04d}\".format(counter) + \".jpg\", (image))\n",
    "        counter = counter + 1\n",
    "        print(str(counter-1) + \" image(s) captured\")\n",
    "        time.sleep(capture_rate)\n",
    "        \n",
    "except KeyboardInterrupt:\n",
    "    print(\"!!!!!STOP!!!!!\")\n",
    "    print(str(counter-1) + \" image(s) captured\")\n",
    "print(\"DONE\")"
   ]
  },
  {
   "cell_type": "markdown",
   "metadata": {},
   "source": [
    "### Zip drive_images folder to download and use postprocess_images.py on local computer"
   ]
  },
  {
   "cell_type": "code",
   "execution_count": null,
   "metadata": {},
   "outputs": [],
   "source": [
    "!zip -r data_collected_fps15.zip data_collected_fps15"
   ]
  },
  {
   "cell_type": "code",
   "execution_count": null,
   "metadata": {},
   "outputs": [],
   "source": [
    "capture_rate"
   ]
  },
  {
   "cell_type": "code",
   "execution_count": null,
   "metadata": {},
   "outputs": [],
   "source": []
  }
 ],
 "metadata": {
  "kernelspec": {
   "display_name": "Python 3",
   "language": "python",
   "name": "python3"
  },
  "language_info": {
   "codemirror_mode": {
    "name": "ipython",
    "version": 3
   },
   "file_extension": ".py",
   "mimetype": "text/x-python",
   "name": "python",
   "nbconvert_exporter": "python",
   "pygments_lexer": "ipython3",
   "version": "3.6.9"
  }
 },
 "nbformat": 4,
 "nbformat_minor": 4
}
