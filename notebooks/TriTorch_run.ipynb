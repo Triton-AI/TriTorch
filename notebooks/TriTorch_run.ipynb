{
 "cells": [
  {
   "cell_type": "markdown",
   "metadata": {},
   "source": [
    "# Running TriTorch\n",
    "\n",
    "---\n"
   ]
  },
  {
   "cell_type": "markdown",
   "metadata": {},
   "source": [
    "# ESC \"OFF\""
   ]
  },
  {
   "cell_type": "markdown",
   "metadata": {},
   "source": [
    "**Create racecar class**"
   ]
  },
  {
   "cell_type": "code",
   "execution_count": null,
   "metadata": {},
   "outputs": [],
   "source": [
    "from jetracer.nvidia_racecar import NvidiaRacecar\n",
    "\n",
    "car = NvidiaRacecar()\n",
    "\n",
    "#______________Reset car_____________\n",
    "car.steering = -0.22  #-0.22 center\n",
    "car.throttle = 0.14  #0.14  neutral"
   ]
  },
  {
   "cell_type": "markdown",
   "metadata": {},
   "source": [
    "# ESC \"ON\""
   ]
  },
  {
   "cell_type": "markdown",
   "metadata": {},
   "source": [
    "**Create camera class**"
   ]
  },
  {
   "cell_type": "code",
   "execution_count": null,
   "metadata": {},
   "outputs": [],
   "source": [
    "from jetcam.csi_camera import CSICamera\n",
    "\n",
    "camera = CSICamera(width=224, height=224, capture_fps=15)"
   ]
  },
  {
   "cell_type": "markdown",
   "metadata": {},
   "source": [
    "**Load model**"
   ]
  },
  {
   "cell_type": "code",
   "execution_count": null,
   "metadata": {},
   "outputs": [],
   "source": [
    "import torch\n",
    "from torch2trt import TRTModule\n",
    "\n",
    "model_trt = TRTModule()\n",
    "model_trt.load_state_dict(torch.load('models/apexcolab40_trt.pth'))"
   ]
  },
  {
   "cell_type": "markdown",
   "metadata": {},
   "source": [
    "**Run model**"
   ]
  },
  {
   "cell_type": "code",
   "execution_count": null,
   "metadata": {},
   "outputs": [],
   "source": [
    "from utils import preprocess\n",
    "import numpy as np\n",
    "import os\n",
    "import cv2\n",
    "import time\n",
    "import datetime\n",
    "from IPython.display import clear_output\n",
    "out=0\n",
    "\n",
    "\n",
    "#____________Calibration____________\n",
    "STEERING_BIAS = -0.22  #-0.22 center\n",
    "THROTTLE_BIAS =  0.14  #0.14  neutral\n",
    "#___________________________________\n",
    "\n",
    "\n",
    "#****************CONTROLS*****************\n",
    "STEERING_GAIN = -1.0   # -1 for traxxas\n",
    "THROTTLE_GAIN =  0.1   # 0.4 tent track\n",
    "MAX           =  0.21   # Max constant speed value. 0.22 max tent track\n",
    "#DAMP          =  0.5\n",
    "#THR           =  0.5 #threshold of steering\n",
    "#****************OPTIONS******************\n",
    "LIMITER       =  True # default MIN = 0.16\n",
    "CONSTANT      =  False # car.throttle = MAX\n",
    "#DAMPNER       =  False # car.throttle = MAX\n",
    "PRINT         =  True  # outputs steering & throttle values\n",
    "#*****************************************\n",
    "\n",
    "\n",
    "try:\n",
    "    while True:\n",
    "    \n",
    "        #______________Image processing_____________\n",
    "        imageSeen = camera.read()\n",
    "        image = preprocess(imageSeen).half()\n",
    "        output = model_trt(image).detach().cpu().numpy().flatten()\n",
    "        x = float(output[0])\n",
    "        y = float(output[1])\n",
    "        #___________________________________________\n",
    "\n",
    "    \n",
    "    \n",
    "        #______________Steering control_____________\n",
    "        STEERING = round(x * STEERING_GAIN + STEERING_BIAS, 2)  \n",
    "        if STEERING < -1.0: #Servo motor protection\n",
    "            car.steering = -1.0\n",
    "        elif STEERING > 1.0:\n",
    "            car.steering = 1.0\n",
    "        #elif DAMPNER:\n",
    "         #   if STEERING < THR and STEERING > -1*THR:\n",
    "          #      car.steering = STEERING*DAMP\n",
    "           # else: car.steering = STEERING\n",
    "        else: car.steering = STEERING\n",
    "        #___________________________________________\n",
    "\n",
    "    \n",
    "    \n",
    "        #______________Throttle control_____________\n",
    "        THROTTLE = round(y * THROTTLE_GAIN + THROTTLE_BIAS, 2)\n",
    "        if LIMITER: #Limiter\n",
    "            if THROTTLE < 0.16: #minimum speed\n",
    "                car.throttle = 0.16\n",
    "            elif THROTTLE > MAX: #maximum speed\n",
    "                car.throttle = MAX\n",
    "            else: car.throttle = THROTTLE\n",
    "        elif CONSTANT:\n",
    "            car.throttle = MAX\n",
    "        else: car.throttle = THROTTLE\n",
    "        #___________________________________________\n",
    "\n",
    "        \n",
    "        #________________Print value________________\n",
    "        if PRINT: #output value\n",
    "            print(\"S = \"+str(car.steering)+\" T = \"+str(car.throttle))\n",
    "            if out == 10:\n",
    "                clear_output()\n",
    "                out = 0\n",
    "            out+=1\n",
    "        #___________________________________________\n",
    "        \n",
    "        \n",
    "except KeyboardInterrupt:\n",
    "#______________Reset car_____________\n",
    "    car.steering = -0.22\n",
    "    car.throttle = 0.14\n",
    "    print (\"!!!!!!!!STOP!!!!!!!!\")\n",
    "#____________________________________"
   ]
  },
  {
   "cell_type": "code",
   "execution_count": null,
   "metadata": {},
   "outputs": [],
   "source": [
    "#______________Reset car_____________\n",
    "car.steering = -0.22\n",
    "car.throttle = 0.14"
   ]
  },
  {
   "cell_type": "code",
   "execution_count": null,
   "metadata": {},
   "outputs": [],
   "source": []
  }
 ],
 "metadata": {
  "kernelspec": {
   "display_name": "Python 3",
   "language": "python",
   "name": "python3"
  },
  "language_info": {
   "codemirror_mode": {
    "name": "ipython",
    "version": 3
   },
   "file_extension": ".py",
   "mimetype": "text/x-python",
   "name": "python",
   "nbconvert_exporter": "python",
   "pygments_lexer": "ipython3",
   "version": "3.6.9"
  }
 },
 "nbformat": 4,
 "nbformat_minor": 4
}
