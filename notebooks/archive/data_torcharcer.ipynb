{
 "cells": [
  {
   "cell_type": "markdown",
   "id": "compound-suite",
   "metadata": {},
   "source": [
    "# Intial setup and click method\n",
    "\n",
    "- Initalize data folder\n",
    "- Initialize neural network\n",
    "- Initialize car\n",
    "- preload resnet18 model\n",
    "- Initialize camera\n",
    "    - Display live camera \n",
    "    - Display live evaluation\n",
    "    - display dataset dropdown menus\n",
    "    - display image count\n",
    "    - display eval reload button\n",
    "    - display model location , save and load\n",
    "    - display training dropdown menus\n",
    "    - progress bar"
   ]
  },
  {
   "cell_type": "code",
   "execution_count": 1,
   "id": "olympic-eugene",
   "metadata": {},
   "outputs": [
    {
     "data": {
      "application/vnd.jupyter.widget-view+json": {
       "model_id": "941eabd651ef4720b6e9184d9fc442a0",
       "version_major": 2,
       "version_minor": 0
      },
      "text/plain": [
       "VBox(children=(HBox(children=(VBox(children=(HBox(children=(ClickableImageWidget(value=b'\\xff\\xd8\\xff\\xe0\\x00\\…"
      ]
     },
     "metadata": {},
     "output_type": "display_data"
    }
   ],
   "source": [
    "import regression"
   ]
  },
  {
   "cell_type": "markdown",
   "id": "transparent-sample",
   "metadata": {},
   "source": [
    "# Click drive method"
   ]
  },
  {
   "cell_type": "markdown",
   "id": "signal-basement",
   "metadata": {},
   "source": [
    "# Behavioral cloning method"
   ]
  },
  {
   "cell_type": "markdown",
   "id": "domestic-nickname",
   "metadata": {},
   "source": [
    "# Drive and post process method"
   ]
  },
  {
   "cell_type": "markdown",
   "id": "supreme-portland",
   "metadata": {},
   "source": [
    "# Convert torch2trt"
   ]
  },
  {
   "cell_type": "code",
   "execution_count": null,
   "id": "nutritional-internet",
   "metadata": {},
   "outputs": [],
   "source": [
    "\n"
   ]
  },
  {
   "cell_type": "code",
   "execution_count": null,
   "id": "given-blade",
   "metadata": {},
   "outputs": [],
   "source": []
  }
 ],
 "metadata": {
  "kernelspec": {
   "display_name": "Python 3",
   "language": "python",
   "name": "python3"
  },
  "language_info": {
   "codemirror_mode": {
    "name": "ipython",
    "version": 3
   },
   "file_extension": ".py",
   "mimetype": "text/x-python",
   "name": "python",
   "nbconvert_exporter": "python",
   "pygments_lexer": "ipython3",
   "version": "3.6.9"
  }
 },
 "nbformat": 4,
 "nbformat_minor": 5
}
